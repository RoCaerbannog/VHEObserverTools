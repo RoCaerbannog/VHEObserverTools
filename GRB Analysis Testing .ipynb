{
 "metadata": {
  "name": "",
  "signature": "sha256:2f8199506b0cfa6f3549a91001dc9be7ca14ed124aca69d54f4d79aa2411ae4e"
 },
 "nbformat": 3,
 "nbformat_minor": 0,
 "worksheets": [
  {
   "cells": [
    {
     "cell_type": "code",
     "collapsed": false,
     "input": [
      "%pylab inline"
     ],
     "language": "python",
     "metadata": {},
     "outputs": [
      {
       "output_type": "stream",
       "stream": "stdout",
       "text": [
        "Populating the interactive namespace from numpy and matplotlib\n"
       ]
      }
     ],
     "prompt_number": 1
    },
    {
     "cell_type": "heading",
     "level": 2,
     "metadata": {},
     "source": [
      "Load the Scripts"
     ]
    },
    {
     "cell_type": "code",
     "collapsed": false,
     "input": [
      "pwd"
     ],
     "language": "python",
     "metadata": {},
     "outputs": [
      {
       "metadata": {},
       "output_type": "pyout",
       "prompt_number": 2,
       "text": [
        "u'/Users/ilmorgan/Documents/VHEObserverTools'"
       ]
      }
     ],
     "prompt_number": 2
    },
    {
     "cell_type": "code",
     "collapsed": false,
     "input": [
      "import os\n"
     ],
     "language": "python",
     "metadata": {},
     "outputs": [],
     "prompt_number": 3
    },
    {
     "cell_type": "code",
     "collapsed": false,
     "input": [
      "os.chdir('Scripts')\n",
      "from LAT_Analysis import LAT_Analysis as LA\n",
      "os.chdir('..')"
     ],
     "language": "python",
     "metadata": {},
     "outputs": [
      {
       "output_type": "stream",
       "stream": "stderr",
       "text": [
        "LAT_Analysis.py:46: SyntaxWarning: import * only allowed at module level\n",
        "  def Analyze(self):\n",
        "LAT_Analysis.py:46: SyntaxWarning: import * only allowed at module level\n",
        "  def Analyze(self):\n"
       ]
      }
     ],
     "prompt_number": 4
    },
    {
     "cell_type": "heading",
     "level": 2,
     "metadata": {},
     "source": [
      "Download the burst's weekly file"
     ]
    },
    {
     "cell_type": "code",
     "collapsed": false,
     "input": [
      "GRB130427A = LA('130427A', fssc_path =  '/Users/ilmorgan/Documents/ScienceTools-v9r33p0-fssc-20140520-x86_64-apple-darwin12.5.0')"
     ],
     "language": "python",
     "metadata": {},
     "outputs": [
      {
       "output_type": "stream",
       "stream": "stdout",
       "text": [
        "The file for GRB130427A is already in your directory.\n"
       ]
      }
     ],
     "prompt_number": 5
    },
    {
     "cell_type": "heading",
     "level": 2,
     "metadata": {},
     "source": [
      "Making all the necessary calculations for the burst"
     ]
    },
    {
     "cell_type": "code",
     "collapsed": false,
     "input": [
      "GRB130427A.Analyze()"
     ],
     "language": "python",
     "metadata": {},
     "outputs": [
      {
       "output_type": "stream",
       "stream": "stdout",
       "text": [
        "This is make2FGLxml version 04r1.\n",
        "For use with the gll_psc_v02.fit and gll_psc_v05.fit and later LAT catalog files.\n",
        "Running gtselect. Extracting data from 0 to 100 seconds...\n",
        "time -p /Users/ilmorgan/Documents/ScienceTools-v9r33p0-fssc-20140520-x86_64-apple-darwin12.5.0/x86_64-apple-darwin12.5.0/bin/gtselect infile=/Users/ilmorgan/Documents/VHEObserverTools/LAT_Week_Files/Fermi_ph_week_256.fits outfile=filtered.fits ra=173.136 dec=27.7129 rad=15.0 tmin=388741629.0 tmax=388741729.0 emin=100.0 emax=300000.0 zmax=100.0 evclsmin=\"INDEF\" evclsmax=\"INDEF\" evclass=0 convtype=-1 phasemin=0.0 phasemax=1.0 evtable=\"EVENTS\" chatter=2 clobber=yes debug=no gui=no mode=\"ql\"\n",
        "Done."
       ]
      },
      {
       "output_type": "stream",
       "stream": "stdout",
       "text": [
        "\n",
        "real 2.04\n",
        "user 1.03\n",
        "sys 0.09\n",
        "Running gtmaketime...\n",
        "time -p /Users/ilmorgan/Documents/ScienceTools-v9r33p0-fssc-20140520-x86_64-apple-darwin12.5.0/x86_64-apple-darwin12.5.0/bin/gtmktime scfile=/Users/ilmorgan/Documents/VHEObserverTools/lat_spacecraft_merged.fits sctable=\"SC_DATA\" filter=\"(DATA_QUAL>0)&&(LAT_CONFIG==1)\" roicut=yes evfile=filtered.fits evtable=\"EVENTS\" outfile=\"filtered_gti.fits\" apply_filter=yes overwrite=no header_obstimes=yes tstart=0.0 tstop=0.0 gtifile=\"default\" chatter=2 clobber=yes debug=True gui=no mode=\"ql\"\n",
        "real 8.76"
       ]
      },
      {
       "output_type": "stream",
       "stream": "stdout",
       "text": [
        "\n",
        "user 1.53\n",
        "sys 0.29\n",
        "Running gtexpCube...\n",
        "time -p /Users/ilmorgan/Documents/ScienceTools-v9r33p0-fssc-20140520-x86_64-apple-darwin12.5.0/x86_64-apple-darwin12.5.0/bin/gtltcube evfile=\"filtered_gti.fits\" evtable=\"EVENTS\" scfile=/Users/ilmorgan/Documents/VHEObserverTools/lat_spacecraft_merged.fits sctable=\"SC_DATA\" outfile=ltCube.fits dcostheta=0.025 binsz=1.0 phibins=0 tmin=0.0 tmax=0.0 file_version=\"1\" zmin=0.0 zmax=180.0 chatter=2 clobber=yes debug=no gui=no mode=\"ql\"\n",
        "Working on file /Users/ilmorgan/Documents/VHEObserverTools/lat_spacecraft_merged.fits"
       ]
      },
      {
       "output_type": "stream",
       "stream": "stdout",
       "text": [
        "\n",
        "....!\n",
        "real 1.32\n",
        "user 0.79\n",
        "sys 0.31\n",
        "Running gtexpmap...\n",
        "time -p /Users/ilmorgan/Documents/ScienceTools-v9r33p0-fssc-20140520-x86_64-apple-darwin12.5.0/x86_64-apple-darwin12.5.0/bin/gtexpmap evfile=filtered_gti.fits evtable=\"EVENTS\" scfile=/Users/ilmorgan/Documents/VHEObserverTools/lat_spacecraft_merged.fits sctable=\"SC_DATA\" expcube=ltCube.fits outfile=expMap.fits irfs=\"CALDB\" srcrad=25.0 nlong=120 nlat=120 nenergies=20 submap=no nlongmin=0 nlongmax=0 nlatmin=0 nlatmax=0 chatter=2 clobber=yes debug=no gui=no mode=\"ql\"\n",
        "The exposure maps generated by this tool are meant"
       ]
      },
      {
       "output_type": "stream",
       "stream": "stdout",
       "text": [
        "\n",
        "to be used for *unbinned* likelihood analysis only.\n",
        "Do not use them for binned analyses.\n",
        "Computing the ExposureMap using ltCube.fits\n",
        "....................!\n",
        "real 194.18\n",
        "user 189.62\n",
        "sys 3.80\n",
        "Making source file and populating it with sources...\n",
        "Creating file and adding sources for 2FGL"
       ]
      },
      {
       "output_type": "stream",
       "stream": "stdout",
       "text": [
        "\n",
        "Added 52 point sources and 0 extended sources"
       ]
      },
      {
       "output_type": "stream",
       "stream": "stdout",
       "text": [
        "\n",
        "Adding diffuse response...\n",
        "time -p /Users/ilmorgan/Documents/ScienceTools-v9r33p0-fssc-20140520-x86_64-apple-darwin12.5.0/x86_64-apple-darwin12.5.0/bin/gtdiffrsp evfile=filtered_gti.fits evtable=\"EVENTS\" scfile=/Users/ilmorgan/Documents/VHEObserverTools/lat_spacecraft_merged.fits sctable=\"SC_DATA\" srcmdl=model.xml irfs=\"CALDB\" evclsmin=0 evclass=\"INDEF\" convert=no chatter=2 clobber=no debug=no gui=no mode=\"ql\"\n",
        "adding source gll_iem_v05_rev1"
       ]
      },
      {
       "output_type": "stream",
       "stream": "stdout",
       "text": [
        "\n",
        "adding source iso_source_v05_rev1\n",
        "Working on...\n",
        "filtered_gti.fits.....................!\n",
        "real 33.12\n",
        "user 27.19\n",
        "sys 1.26\n",
        "Running likelihood analysis...\n",
        "Adding GRB130427A as a source."
       ]
      },
      {
       "output_type": "stream",
       "stream": "stdout",
       "text": [
        "\n",
        "_2FGLJ1214.6+1309"
       ]
      },
      {
       "output_type": "stream",
       "stream": "stdout",
       "text": [
        " -988.775564691\n",
        "Deleting...\n",
        "_2FGLJ1214.8+1653 -993.599857745\n",
        "Deleting...\n",
        "_2FGLJ1231.7+2848 -991.028871978\n",
        "Deleting...\n",
        "_2FGLJ1258.2+3231 -982.72485185\n",
        "Deleting...\n",
        "iso_source_v05_rev1 -1066.16114395\n",
        "Deleting...\n",
        "_2FGLJ1121.0+4211 -999.179450728\n",
        "Deleting...\n",
        "_2FGLJ1129.5+3758 -997.907247729\n",
        "Deleting...\n",
        "_2FGLJ1204.2+1144 -990.035424379\n",
        "Deleting...\n",
        "_2FGLJ1150.1+2419 -970.310635737\n",
        "Deleting...\n",
        "_2FGLJ1224.9+2122"
       ]
      },
      {
       "output_type": "stream",
       "stream": "stdout",
       "text": [
        " -1024.39200708\n",
        "Deleting...\n",
        "_2FGLJ1054.5+2212 -1021.21585508\n",
        "Deleting...\n",
        "_2FGLJ1048.6+2336 -1020.21497434\n",
        "Deleting...\n",
        "GRB130427A 34.7075519945\n",
        "_2FGLJ1032.6+3733 -1008.52777079\n",
        "Deleting...\n",
        "_2FGLJ1254.4+2209 -986.825429326\n",
        "Deleting...\n",
        "_2FGLJ1224.4+2436 -989.619243036\n",
        "Deleting...\n",
        "_2FGLJ1127.6+3622 -970.306969379\n",
        "Deleting...\n",
        "_2FGLJ1230.2+2517 -990.128934689\n",
        "Deleting...\n",
        "_2FGLJ1100.9+4014 -1006.38676734\n",
        "Deleting...\n",
        "_2FGLJ1257.0+3650 -978.813262962\n",
        "Deleting...\n",
        "_2FGLJ1017.0+3531 -980.649223057\n",
        "Deleting...\n",
        "_2FGLJ1221.3+3010"
       ]
      },
      {
       "output_type": "stream",
       "stream": "stdout",
       "text": [
        " -973.558360873\n",
        "Deleting...\n",
        "_2FGLJ1124.2+2338 -970.654940687\n",
        "Deleting...\n",
        "_2FGLJ1301.6+3331 -982.724642616\n",
        "Deleting...\n",
        "_2FGLJ1104.4+3812 -1019.32032882\n",
        "Deleting...\n",
        "_2FGLJ1209.6+4121 -994.189744548\n",
        "Deleting...\n",
        "_2FGLJ1049.4+1551 -1018.13536078\n",
        "Deleting...\n",
        "_2FGLJ1150.5+4154 -997.655621758\n",
        "Deleting...\n",
        "_2FGLJ1014.1+2306 -987.367082471\n",
        "Deleting...\n",
        "_2FGLJ1159.5+2914 -950.66545842\n",
        "Deleting...\n",
        "_2FGLJ1106.1+2814 -970.174200968\n",
        "Deleting...\n",
        "_2FGLJ1146.9+4000 -1000.37010507\n",
        "Deleting...\n",
        "_2FGLJ1209.7+1807 -992.275744494\n",
        "Deleting...\n",
        "_2FGLJ1013.6+3434 -981.918790509\n",
        "Deleting...\n",
        "gll_iem_v05_rev1 -1030.6750868\n",
        "Deleting...\n",
        "_2FGLJ1231.6+1417 -988.865849819\n",
        "Deleting...\n",
        "_2FGLJ1051.3+3938 -1012.70029226\n",
        "Deleting...\n",
        "_2FGLJ1033.2+4117"
       ]
      },
      {
       "output_type": "stream",
       "stream": "stdout",
       "text": [
        " -977.710481269\n",
        "Deleting...\n",
        "_2FGLJ1023.6+2959 -981.212642561\n",
        "Deleting...\n",
        "_2FGLJ1109.3+2414 -972.767104321\n",
        "Deleting...\n",
        "_2FGLJ1221.4+2814 -976.428244725\n",
        "Deleting...\n",
        "_2FGLJ1107.8+1505 -1011.46677363\n",
        "Deleting...\n",
        "_2FGLJ1225.0+4335 -987.566722822\n",
        "Deleting...\n",
        "_2FGLJ1243.1+3627 -967.49353753\n",
        "Deleting...\n",
        "_2FGLJ1158.8+0939 -999.651195741\n",
        "Deleting...\n",
        "_2FGLJ1137.0+2553 -972.498008204\n",
        "Deleting...\n",
        "_2FGLJ1141.9+1550 -994.167442669\n",
        "Deleting...\n",
        "_2FGLJ1217.8+3006 -976.464644331\n",
        "Deleting...\n",
        "_2FGLJ1112.4+3450"
       ]
      },
      {
       "output_type": "stream",
       "stream": "stdout",
       "text": [
        " -996.853112175\n",
        "Deleting...\n",
        "_2FGLJ1226.0+2953 -973.051104467\n",
        "Deleting...\n",
        "_2FGLJ1249.9+3705 -980.593937623\n",
        "Deleting...\n",
        "_2FGLJ1043.1+2404 -1017.17333356\n",
        "Deleting...\n",
        "_2FGLJ1012.6+2440 -987.134889229\n",
        "Deleting...\n",
        "_2FGLJ1023.6+3947 -977.710021639\n",
        "Deleting...\n",
        "_2FGLJ1117.2+2013 -978.475213819\n",
        "Deleting...\n",
        "Our convergence is...\n",
        "0\n",
        "Running gtselect. Extracting data from 100 to 1900 seconds...\n",
        "time -p /Users/ilmorgan/Documents/ScienceTools-v9r33p0-fssc-20140520-x86_64-apple-darwin12.5.0/x86_64-apple-darwin12.5.0/bin/gtselect infile=/Users/ilmorgan/Documents/VHEObserverTools/LAT_Week_Files/Fermi_ph_week_256.fits outfile=filtered.fits ra=173.136 dec=27.7129 rad=15.0 tmin=388741729.0 tmax=388743529.0 emin=100.0 emax=300000.0 zmax=100.0 evclsmin=\"INDEF\" evclsmax=\"INDEF\" evclass=2 convtype=-1 phasemin=0.0 phasemax=1.0 evtable=\"EVENTS\" chatter=2 clobber=yes debug=no gui=no mode=\"ql\"\n",
        "Done."
       ]
      },
      {
       "output_type": "stream",
       "stream": "stdout",
       "text": [
        "\n",
        "real 2.78\n",
        "user 1.06\n",
        "sys 0.09\n",
        "Running gtmaketime...\n",
        "time -p /Users/ilmorgan/Documents/ScienceTools-v9r33p0-fssc-20140520-x86_64-apple-darwin12.5.0/x86_64-apple-darwin12.5.0/bin/gtmktime scfile=/Users/ilmorgan/Documents/VHEObserverTools/lat_spacecraft_merged.fits sctable=\"SC_DATA\" filter=\"(DATA_QUAL>0)&&(LAT_CONFIG==1)\" roicut=yes evfile=filtered.fits evtable=\"EVENTS\" outfile=\"filtered_gti.fits\" apply_filter=yes overwrite=no header_obstimes=yes tstart=0.0 tstop=0.0 gtifile=\"default\" chatter=2 clobber=yes debug=True gui=no mode=\"ql\"\n",
        "real 7.91"
       ]
      },
      {
       "output_type": "stream",
       "stream": "stdout",
       "text": [
        "\n",
        "user 1.55\n",
        "sys 0.29\n",
        "Running gtexpCube...\n",
        "time -p /Users/ilmorgan/Documents/ScienceTools-v9r33p0-fssc-20140520-x86_64-apple-darwin12.5.0/x86_64-apple-darwin12.5.0/bin/gtltcube evfile=\"filtered_gti.fits\" evtable=\"EVENTS\" scfile=/Users/ilmorgan/Documents/VHEObserverTools/lat_spacecraft_merged.fits sctable=\"SC_DATA\" outfile=ltCube.fits dcostheta=0.025 binsz=1.0 phibins=0 tmin=0.0 tmax=0.0 file_version=\"1\" zmin=0.0 zmax=180.0 chatter=2 clobber=yes debug=no gui=no mode=\"ql\"\n",
        "Working on file /Users/ilmorgan/Documents/VHEObserverTools/lat_spacecraft_merged.fits"
       ]
      },
      {
       "output_type": "stream",
       "stream": "stdout",
       "text": [
        "\n",
        "...........!\n",
        "real 1.45\n",
        "user 0.78\n",
        "sys 0.31\n",
        "Running gtexpmap...\n",
        "time -p /Users/ilmorgan/Documents/ScienceTools-v9r33p0-fssc-20140520-x86_64-apple-darwin12.5.0/x86_64-apple-darwin12.5.0/bin/gtexpmap evfile=filtered_gti.fits evtable=\"EVENTS\" scfile=/Users/ilmorgan/Documents/VHEObserverTools/lat_spacecraft_merged.fits sctable=\"SC_DATA\" expcube=ltCube.fits outfile=expMap.fits irfs=\"CALDB\" srcrad=25.0 nlong=120 nlat=120 nenergies=20 submap=no nlongmin=0 nlongmax=0 nlatmin=0 nlatmax=0 chatter=2 clobber=yes debug=no gui=no mode=\"ql\"\n",
        "The exposure maps generated by this tool are meant"
       ]
      },
      {
       "output_type": "stream",
       "stream": "stdout",
       "text": [
        "\n",
        "to be used for *unbinned* likelihood analysis only.\n",
        "Do not use them for binned analyses.\n",
        "Computing the ExposureMap using ltCube.fits\n",
        "....................!\n",
        "real 206.56\n",
        "user 198.63\n",
        "sys 4.30\n",
        "Making source file and populating it with sources...\n",
        "Creating file and adding sources for 2FGL"
       ]
      },
      {
       "output_type": "stream",
       "stream": "stdout",
       "text": [
        "\n",
        "Added 52 point sources and 0 extended sources"
       ]
      },
      {
       "output_type": "stream",
       "stream": "stdout",
       "text": [
        "\n",
        "Adding diffuse response...\n",
        "time -p /Users/ilmorgan/Documents/ScienceTools-v9r33p0-fssc-20140520-x86_64-apple-darwin12.5.0/x86_64-apple-darwin12.5.0/bin/gtdiffrsp evfile=filtered_gti.fits evtable=\"EVENTS\" scfile=/Users/ilmorgan/Documents/VHEObserverTools/lat_spacecraft_merged.fits sctable=\"SC_DATA\" srcmdl=model.xml irfs=\"CALDB\" evclsmin=0 evclass=\"INDEF\" convert=no chatter=2 clobber=no debug=no gui=no mode=\"ql\"\n",
        "adding source gll_iem_v05_rev1"
       ]
      },
      {
       "output_type": "stream",
       "stream": "stdout",
       "text": [
        "\n",
        "adding source iso_source_v05_rev1\n",
        "Working on...\n",
        "filtered_gti.fits.....................!\n",
        "real 35.83\n",
        "user 27.54\n",
        "sys 1.36\n",
        "Running likelihood analysis...\n",
        "Adding GRB130427A as a source."
       ]
      },
      {
       "output_type": "stream",
       "stream": "stdout",
       "text": [
        "\n",
        "_2FGLJ1214.6+1309"
       ]
      },
      {
       "output_type": "stream",
       "stream": "stdout",
       "text": [
        " -641.140175139\n",
        "Deleting...\n",
        "_2FGLJ1214.8+1653 -650.694549677\n",
        "Deleting...\n",
        "_2FGLJ1231.7+2848 -648.784845134\n",
        "Deleting...\n",
        "_2FGLJ1258.2+3231 -630.145241682\n",
        "Deleting...\n",
        "iso_source_v05_rev1"
       ]
      },
      {
       "output_type": "stream",
       "stream": "stdout",
       "text": [
        " -734.392933352\n",
        "Deleting...\n",
        "_2FGLJ1121.0+4211 -653.824717259\n",
        "Deleting...\n",
        "_2FGLJ1129.5+3758 -657.456239487\n",
        "Deleting...\n",
        "_2FGLJ1204.2+1144 -642.111648966\n",
        "Deleting...\n",
        "_2FGLJ1150.1+2419 -632.113022412\n",
        "Deleting...\n",
        "_2FGLJ1224.9+2122 -672.64892059\n",
        "Deleting...\n",
        "_2FGLJ1054.5+2212 -663.71647026\n",
        "Deleting...\n",
        "_2FGLJ1048.6+2336 -663.261389811\n",
        "Deleting...\n",
        "GRB130427A 167.522887251\n",
        "_2FGLJ1032.6+3733 -658.681548974\n",
        "Deleting...\n",
        "_2FGLJ1254.4+2209"
       ]
      },
      {
       "output_type": "stream",
       "stream": "stdout",
       "text": [
        " -632.29148579\n",
        "Deleting...\n",
        "_2FGLJ1224.4+2436 -647.398125313\n",
        "Deleting...\n",
        "_2FGLJ1127.6+3622 -636.105354857\n",
        "Deleting...\n",
        "_2FGLJ1230.2+2517 -648.186354203\n",
        "Deleting...\n",
        "_2FGLJ1100.9+4014 -659.467477491\n",
        "Deleting...\n",
        "_2FGLJ1257.0+3650 -629.722255611\n",
        "Deleting...\n",
        "_2FGLJ1017.0+3531 -651.076621248\n",
        "Deleting...\n",
        "_2FGLJ1221.3+3010 -634.127013842\n",
        "Deleting...\n",
        "_2FGLJ1124.2+2338 -629.892852377\n",
        "Deleting...\n",
        "_2FGLJ1301.6+3331 -630.146957819\n",
        "Deleting...\n",
        "_2FGLJ1104.4+3812 -673.625404609\n",
        "Deleting...\n",
        "_2FGLJ1209.6+4121 -646.585348242\n",
        "Deleting...\n",
        "_2FGLJ1049.4+1551"
       ]
      },
      {
       "output_type": "stream",
       "stream": "stdout",
       "text": [
        " -675.429636879\n",
        "Deleting...\n",
        "_2FGLJ1150.5+4154 -653.482077885\n",
        "Deleting...\n",
        "_2FGLJ1014.1+2306 -656.096014717\n",
        "Deleting...\n",
        "_2FGLJ1159.5+2914 -630.512730043\n",
        "Deleting...\n",
        "_2FGLJ1106.1+2814 -626.588518332\n",
        "Deleting...\n",
        "_2FGLJ1146.9+4000 -654.561321072\n",
        "Deleting...\n",
        "_2FGLJ1209.7+1807 -651.431428757\n",
        "Deleting...\n",
        "_2FGLJ1013.6+3434 -651.928143299\n",
        "Deleting...\n",
        "gll_iem_v05_rev1 -691.210553394\n",
        "Deleting...\n",
        "_2FGLJ1231.6+1417 -641.058881764\n",
        "Deleting...\n",
        "_2FGLJ1051.3+3938 -659.431880472\n",
        "Deleting...\n",
        "_2FGLJ1033.2+4117 -644.19463767\n",
        "Deleting...\n",
        "_2FGLJ1023.6+2959 -653.920529605\n",
        "Deleting...\n",
        "_2FGLJ1109.3+2414 -634.550465472\n",
        "Deleting...\n",
        "_2FGLJ1221.4+2814 -637.328271182\n",
        "Deleting...\n",
        "_2FGLJ1107.8+1505 -658.534000684\n",
        "Deleting...\n",
        "_2FGLJ1225.0+4335 -633.945775704\n",
        "Deleting...\n",
        "_2FGLJ1243.1+3627 -617.421329516\n",
        "Deleting...\n",
        "_2FGLJ1158.8+0939 -645.674850957\n",
        "Deleting...\n",
        "_2FGLJ1137.0+2553"
       ]
      },
      {
       "output_type": "stream",
       "stream": "stdout",
       "text": [
        " -633.814687419\n",
        "Deleting...\n",
        "_2FGLJ1141.9+1550 -651.294927861\n",
        "Deleting...\n",
        "_2FGLJ1217.8+3006 -635.562557864\n",
        "Deleting...\n",
        "_2FGLJ1112.4+3450 -657.667020274\n",
        "Deleting...\n",
        "_2FGLJ1226.0+2953 -634.25261503\n",
        "Deleting...\n",
        "_2FGLJ1249.9+3705 -630.770884218\n",
        "Deleting...\n",
        "_2FGLJ1043.1+2404 -663.478627405\n",
        "Deleting...\n",
        "_2FGLJ1012.6+2440 -656.148425684\n",
        "Deleting...\n",
        "_2FGLJ1023.6+3947 -644.192287503\n",
        "Deleting...\n",
        "_2FGLJ1117.2+2013 -635.52942284\n",
        "Deleting...\n",
        "Our convergence is...\n",
        "0\n",
        "Running gtselect. Extracting data from 1900 to 3700 seconds..."
       ]
      },
      {
       "output_type": "stream",
       "stream": "stdout",
       "text": [
        "\n",
        "time -p /Users/ilmorgan/Documents/ScienceTools-v9r33p0-fssc-20140520-x86_64-apple-darwin12.5.0/x86_64-apple-darwin12.5.0/bin/gtselect infile=/Users/ilmorgan/Documents/VHEObserverTools/LAT_Week_Files/Fermi_ph_week_256.fits outfile=filtered.fits ra=173.136 dec=27.7129 rad=15.0 tmin=388743529.0 tmax=388745329.0 emin=100.0 emax=300000.0 zmax=100.0 evclsmin=\"INDEF\" evclsmax=\"INDEF\" evclass=2 convtype=-1 phasemin=0.0 phasemax=1.0 evtable=\"EVENTS\" chatter=2 clobber=yes debug=no gui=no mode=\"ql\"\n",
        "Done."
       ]
      },
      {
       "output_type": "stream",
       "stream": "stdout",
       "text": [
        "\n",
        "real 2.64\n",
        "user 1.04\n",
        "sys 0.09\n",
        "Running gtmaketime...\n",
        "time -p /Users/ilmorgan/Documents/ScienceTools-v9r33p0-fssc-20140520-x86_64-apple-darwin12.5.0/x86_64-apple-darwin12.5.0/bin/gtmktime scfile=/Users/ilmorgan/Documents/VHEObserverTools/lat_spacecraft_merged.fits sctable=\"SC_DATA\" filter=\"(DATA_QUAL>0)&&(LAT_CONFIG==1)\" roicut=yes evfile=filtered.fits evtable=\"EVENTS\" outfile=\"filtered_gti.fits\" apply_filter=yes overwrite=no header_obstimes=yes tstart=0.0 tstop=0.0 gtifile=\"default\" chatter=2 clobber=yes debug=True gui=no mode=\"ql\"\n",
        "real 7.68"
       ]
      },
      {
       "output_type": "stream",
       "stream": "stdout",
       "text": [
        "\n",
        "user 1.53\n",
        "sys 0.30\n",
        "Running gtexpCube...\n",
        "time -p /Users/ilmorgan/Documents/ScienceTools-v9r33p0-fssc-20140520-x86_64-apple-darwin12.5.0/x86_64-apple-darwin12.5.0/bin/gtltcube evfile=\"filtered_gti.fits\" evtable=\"EVENTS\" scfile=/Users/ilmorgan/Documents/VHEObserverTools/lat_spacecraft_merged.fits sctable=\"SC_DATA\" outfile=ltCube.fits dcostheta=0.025 binsz=1.0 phibins=0 tmin=0.0 tmax=0.0 file_version=\"1\" zmin=0.0 zmax=180.0 chatter=2 clobber=yes debug=no gui=no mode=\"ql\"\n",
        "Working on file /Users/ilmorgan/Documents/VHEObserverTools/lat_spacecraft_merged.fits"
       ]
      },
      {
       "output_type": "stream",
       "stream": "stdout",
       "text": [
        "\n",
        "........!\n",
        "real 1.57\n",
        "user 0.77\n",
        "sys 0.31\n",
        "Running gtexpmap...\n",
        "time -p /Users/ilmorgan/Documents/ScienceTools-v9r33p0-fssc-20140520-x86_64-apple-darwin12.5.0/x86_64-apple-darwin12.5.0/bin/gtexpmap evfile=filtered_gti.fits evtable=\"EVENTS\" scfile=/Users/ilmorgan/Documents/VHEObserverTools/lat_spacecraft_merged.fits sctable=\"SC_DATA\" expcube=ltCube.fits outfile=expMap.fits irfs=\"CALDB\" srcrad=25.0 nlong=120 nlat=120 nenergies=20 submap=no nlongmin=0 nlongmax=0 nlatmin=0 nlatmax=0 chatter=2 clobber=yes debug=no gui=no mode=\"ql\"\n",
        "The exposure maps generated by this tool are meant"
       ]
      },
      {
       "output_type": "stream",
       "stream": "stdout",
       "text": [
        "\n",
        "to be used for *unbinned* likelihood analysis only.\n",
        "Do not use them for binned analyses.\n",
        "Computing the ExposureMap using ltCube.fits\n",
        "....................!\n",
        "real 195.75\n",
        "user 188.18\n",
        "sys 4.20\n",
        "Making source file and populating it with sources...\n",
        "Creating file and adding sources for 2FGL"
       ]
      },
      {
       "output_type": "stream",
       "stream": "stdout",
       "text": [
        "\n",
        "Added 52 point sources and 0 extended sources"
       ]
      },
      {
       "output_type": "stream",
       "stream": "stdout",
       "text": [
        "\n",
        "Adding diffuse response...\n",
        "time -p /Users/ilmorgan/Documents/ScienceTools-v9r33p0-fssc-20140520-x86_64-apple-darwin12.5.0/x86_64-apple-darwin12.5.0/bin/gtdiffrsp evfile=filtered_gti.fits evtable=\"EVENTS\" scfile=/Users/ilmorgan/Documents/VHEObserverTools/lat_spacecraft_merged.fits sctable=\"SC_DATA\" srcmdl=model.xml irfs=\"CALDB\" evclsmin=0 evclass=\"INDEF\" convert=no chatter=2 clobber=no debug=no gui=no mode=\"ql\"\n",
        "adding source gll_iem_v05_rev1"
       ]
      },
      {
       "output_type": "stream",
       "stream": "stdout",
       "text": [
        "\n",
        "adding source iso_source_v05_rev1\n",
        "Working on...\n",
        "filtered_gti.fits............!\n",
        "real 32.92\n",
        "user 24.14\n",
        "sys 1.31\n",
        "Running likelihood analysis...\n",
        "Adding GRB130427A as a source."
       ]
      },
      {
       "output_type": "stream",
       "stream": "stdout",
       "text": [
        "\n",
        "_2FGLJ1214.6+1309"
       ]
      },
      {
       "output_type": "stream",
       "stream": "stdout",
       "text": [
        " -12.9406948586\n",
        "Deleting...\n",
        "_2FGLJ1214.8+1653 -12.86502926\n",
        "Deleting...\n",
        "_2FGLJ1231.7+2848 -12.8174991894\n",
        "Deleting...\n",
        "_2FGLJ1258.2+3231 -12.845688341\n",
        "Deleting...\n",
        "iso_source_v05_rev1 -13.3955644199\n",
        "Deleting...\n",
        "_2FGLJ1121.0+4211 -13.8968198847\n",
        "Deleting...\n",
        "_2FGLJ1129.5+3758 -13.7593651997\n",
        "Deleting...\n",
        "_2FGLJ1204.2+1144 -12.8792032857\n",
        "Deleting...\n",
        "_2FGLJ1150.1+2419 -12.4221988812\n",
        "Deleting...\n",
        "_2FGLJ1224.9+2122"
       ]
      },
      {
       "output_type": "stream",
       "stream": "stdout",
       "text": [
        " -14.7995115302\n",
        "Deleting...\n",
        "_2FGLJ1054.5+2212 -13.6665655628\n",
        "Deleting...\n",
        "_2FGLJ1048.6+2336 -13.6146931751\n",
        "Deleting...\n",
        "GRB130427A 5.38935507915\n",
        "_2FGLJ1032.6+3733 -13.5158538734\n",
        "Deleting...\n",
        "_2FGLJ1254.4+2209 -12.9861835431\n",
        "Deleting...\n",
        "_2FGLJ1224.4+2436 -12.7692631629\n",
        "Deleting...\n",
        "_2FGLJ1127.6+3622 -12.4577560555\n",
        "Deleting...\n",
        "_2FGLJ1230.2+2517 -12.7942778823\n",
        "Deleting...\n",
        "_2FGLJ1100.9+4014 -13.8593800854\n",
        "Deleting...\n",
        "_2FGLJ1257.0+3650 -12.8703457999\n",
        "Deleting...\n",
        "_2FGLJ1017.0+3531 -13.6992065529\n",
        "Deleting...\n",
        "_2FGLJ1221.3+3010"
       ]
      },
      {
       "output_type": "stream",
       "stream": "stdout",
       "text": [
        " -12.499733847\n",
        "Deleting...\n",
        "_2FGLJ1124.2+2338 -12.377873645\n",
        "Deleting...\n",
        "_2FGLJ1301.6+3331 -12.8454210154\n",
        "Deleting...\n",
        "_2FGLJ1104.4+3812 -14.237211234\n",
        "Deleting...\n",
        "_2FGLJ1209.6+4121 -13.8882465301\n",
        "Deleting...\n",
        "_2FGLJ1049.4+1551 -14.1034684969\n",
        "Deleting...\n",
        "_2FGLJ1150.5+4154 -13.9285958102\n",
        "Deleting...\n",
        "_2FGLJ1014.1+2306 -13.8704609036\n",
        "Deleting...\n",
        "_2FGLJ1159.5+2914 -12.5714968559\n",
        "Deleting...\n",
        "_2FGLJ1106.1+2814 -12.4222502888\n",
        "Deleting...\n",
        "_2FGLJ1146.9+4000 -14.04112872\n",
        "Deleting...\n",
        "_2FGLJ1209.7+1807 -12.854813348\n",
        "Deleting...\n",
        "_2FGLJ1013.6+3434 -13.7368407167\n",
        "Deleting...\n",
        "gll_iem_v05_rev1 -14.583217082\n",
        "Deleting...\n",
        "_2FGLJ1231.6+1417"
       ]
      },
      {
       "output_type": "stream",
       "stream": "stdout",
       "text": [
        " -12.9550415064\n",
        "Deleting...\n",
        "_2FGLJ1051.3+3938 -13.5182009862\n",
        "Deleting...\n",
        "_2FGLJ1033.2+4117 -13.6953433704\n",
        "Deleting...\n",
        "_2FGLJ1023.6+2959 -13.6928402777\n",
        "Deleting...\n",
        "_2FGLJ1109.3+2414 -12.3857177697\n",
        "Deleting...\n",
        "_2FGLJ1221.4+2814 -12.4160852671\n",
        "Deleting...\n",
        "_2FGLJ1107.8+1505 -12.5391789264\n",
        "Deleting...\n",
        "_2FGLJ1225.0+4335 -13.9593181461\n",
        "Deleting...\n",
        "_2FGLJ1243.1+3627 -12.6006495666\n",
        "Deleting...\n",
        "_2FGLJ1158.8+0939 -12.6810181726\n",
        "Deleting...\n",
        "_2FGLJ1137.0+2553"
       ]
      },
      {
       "output_type": "stream",
       "stream": "stdout",
       "text": [
        " -12.3794076226\n",
        "Deleting...\n",
        "_2FGLJ1141.9+1550 -12.8203286337\n",
        "Deleting...\n",
        "_2FGLJ1217.8+3006 -12.0901776847\n",
        "Deleting...\n",
        "_2FGLJ1112.4+3450 -13.7535193999\n",
        "Deleting...\n",
        "_2FGLJ1226.0+2953 -12.5296176608\n",
        "Deleting...\n",
        "_2FGLJ1249.9+3705 -12.8578048479\n",
        "Deleting...\n",
        "_2FGLJ1043.1+2404 -13.649655306\n",
        "Deleting...\n",
        "_2FGLJ1012.6+2440 -13.8581117357\n",
        "Deleting...\n",
        "_2FGLJ1023.6+3947 -13.7008965385\n",
        "Deleting...\n",
        "_2FGLJ1117.2+2013 -12.5711546487\n",
        "Deleting...\n",
        "Our convergence is...\n",
        "0\n",
        "Running gtselect. Extracting data from 3700 to 5500 seconds...\n",
        "time -p /Users/ilmorgan/Documents/ScienceTools-v9r33p0-fssc-20140520-x86_64-apple-darwin12.5.0/x86_64-apple-darwin12.5.0/bin/gtselect infile=/Users/ilmorgan/Documents/VHEObserverTools/LAT_Week_Files/Fermi_ph_week_256.fits outfile=filtered.fits ra=173.136 dec=27.7129 rad=15.0 tmin=388745329.0 tmax=388747129.0 emin=100.0 emax=300000.0 zmax=100.0 evclsmin=\"INDEF\" evclsmax=\"INDEF\" evclass=2 convtype=-1 phasemin=0.0 phasemax=1.0 evtable=\"EVENTS\" chatter=2 clobber=yes debug=no gui=no mode=\"ql\"\n",
        "Done."
       ]
      },
      {
       "output_type": "stream",
       "stream": "stdout",
       "text": [
        "\n",
        "real 2.52\n",
        "user 1.05\n",
        "sys 0.09\n",
        "Running gtmaketime...\n",
        "time -p /Users/ilmorgan/Documents/ScienceTools-v9r33p0-fssc-20140520-x86_64-apple-darwin12.5.0/x86_64-apple-darwin12.5.0/bin/gtmktime scfile=/Users/ilmorgan/Documents/VHEObserverTools/lat_spacecraft_merged.fits sctable=\"SC_DATA\" filter=\"(DATA_QUAL>0)&&(LAT_CONFIG==1)\" roicut=yes evfile=filtered.fits evtable=\"EVENTS\" outfile=\"filtered_gti.fits\" apply_filter=yes overwrite=no header_obstimes=yes tstart=0.0 tstop=0.0 gtifile=\"default\" chatter=2 clobber=yes debug=True gui=no mode=\"ql\"\n",
        "real 9.36"
       ]
      },
      {
       "output_type": "stream",
       "stream": "stdout",
       "text": [
        "\n",
        "user 1.53\n",
        "sys 0.29\n",
        "Running gtexpCube...\n",
        "time -p /Users/ilmorgan/Documents/ScienceTools-v9r33p0-fssc-20140520-x86_64-apple-darwin12.5.0/x86_64-apple-darwin12.5.0/bin/gtltcube evfile=\"filtered_gti.fits\" evtable=\"EVENTS\" scfile=/Users/ilmorgan/Documents/VHEObserverTools/lat_spacecraft_merged.fits sctable=\"SC_DATA\" outfile=ltCube.fits dcostheta=0.025 binsz=1.0 phibins=0 tmin=0.0 tmax=0.0 file_version=\"1\" zmin=0.0 zmax=180.0 chatter=2 clobber=yes debug=no gui=no mode=\"ql\"\n",
        "Working on file /Users/ilmorgan/Documents/VHEObserverTools/lat_spacecraft_merged.fits"
       ]
      },
      {
       "output_type": "stream",
       "stream": "stdout",
       "text": [
        "\n",
        "..............................!\n",
        "real 1.69\n",
        "user 0.87\n",
        "sys 0.31\n",
        "Running gtexpmap...\n",
        "time -p /Users/ilmorgan/Documents/ScienceTools-v9r33p0-fssc-20140520-x86_64-apple-darwin12.5.0/x86_64-apple-darwin12.5.0/bin/gtexpmap evfile=filtered_gti.fits evtable=\"EVENTS\" scfile=/Users/ilmorgan/Documents/VHEObserverTools/lat_spacecraft_merged.fits sctable=\"SC_DATA\" expcube=ltCube.fits outfile=expMap.fits irfs=\"CALDB\" srcrad=25.0 nlong=120 nlat=120 nenergies=20 submap=no nlongmin=0 nlongmax=0 nlatmin=0 nlatmax=0 chatter=2 clobber=yes debug=no gui=no mode=\"ql\"\n",
        "The exposure maps generated by this tool are meant"
       ]
      },
      {
       "output_type": "stream",
       "stream": "stdout",
       "text": [
        "\n",
        "to be used for *unbinned* likelihood analysis only.\n",
        "Do not use them for binned analyses.\n",
        "Computing the ExposureMap using ltCube.fits\n",
        "....................!\n",
        "real 198.28\n",
        "user 190.36\n",
        "sys 4.14\n",
        "Making source file and populating it with sources...\n",
        "Creating file and adding sources for 2FGL"
       ]
      },
      {
       "output_type": "stream",
       "stream": "stdout",
       "text": [
        "\n",
        "Added 52 point sources and 0 extended sources"
       ]
      },
      {
       "output_type": "stream",
       "stream": "stdout",
       "text": [
        "\n",
        "Adding diffuse response...\n",
        "time -p /Users/ilmorgan/Documents/ScienceTools-v9r33p0-fssc-20140520-x86_64-apple-darwin12.5.0/x86_64-apple-darwin12.5.0/bin/gtdiffrsp evfile=filtered_gti.fits evtable=\"EVENTS\" scfile=/Users/ilmorgan/Documents/VHEObserverTools/lat_spacecraft_merged.fits sctable=\"SC_DATA\" srcmdl=model.xml irfs=\"CALDB\" evclsmin=0 evclass=\"INDEF\" convert=no chatter=2 clobber=no debug=no gui=no mode=\"ql\"\n",
        "adding source gll_iem_v05_rev1"
       ]
      },
      {
       "output_type": "stream",
       "stream": "stdout",
       "text": [
        "\n",
        "adding source iso_source_v05_rev1\n",
        "Working on...\n",
        "filtered_gti.fits.....................!\n",
        "real 33.70\n",
        "user 25.43\n",
        "sys 1.29\n",
        "Running likelihood analysis...\n",
        "Adding GRB130427A as a source."
       ]
      },
      {
       "output_type": "stream",
       "stream": "stdout",
       "text": [
        "\n",
        "_2FGLJ1214.6+1309"
       ]
      },
      {
       "output_type": "stream",
       "stream": "stdout",
       "text": [
        " -14.3852723799\n",
        "Deleting...\n",
        "_2FGLJ1214.8+1653 -14.5687826967\n",
        "Deleting...\n",
        "_2FGLJ1231.7+2848 -14.8253364778\n",
        "Deleting...\n",
        "_2FGLJ1258.2+3231 -14.690498738\n",
        "Deleting...\n",
        "iso_source_v05_rev1 -17.8594454309\n",
        "Deleting...\n",
        "_2FGLJ1121.0+4211"
       ]
      },
      {
       "output_type": "stream",
       "stream": "stdout",
       "text": [
        " -14.3258999412\n",
        "Deleting...\n",
        "_2FGLJ1129.5+3758 -15.3316369952\n",
        "Deleting...\n",
        "_2FGLJ1204.2+1144 -14.5494121945\n",
        "Deleting...\n",
        "_2FGLJ1150.1+2419 -12.5790121594\n",
        "Deleting...\n",
        "_2FGLJ1224.9+2122 -16.2864175796\n",
        "Deleting...\n",
        "_2FGLJ1054.5+2212 -14.8057420705\n",
        "Deleting...\n",
        "_2FGLJ1048.6+2336 -15.1520336579\n",
        "Deleting...\n",
        "GRB130427A 42.7227376177\n",
        "_2FGLJ1032.6+3733 -15.3260158807\n",
        "Deleting...\n",
        "_2FGLJ1254.4+2209 -14.410356262\n",
        "Deleting...\n",
        "_2FGLJ1224.4+2436 -10.4055591873\n",
        "Deleting...\n",
        "_2FGLJ1127.6+3622"
       ]
      },
      {
       "output_type": "stream",
       "stream": "stdout",
       "text": [
        " -13.3680729064\n",
        "Deleting...\n",
        "_2FGLJ1230.2+2517 -14.5118123449\n",
        "Deleting...\n",
        "_2FGLJ1100.9+4014 -15.094712832\n",
        "Deleting...\n",
        "_2FGLJ1257.0+3650 -14.6333644978\n",
        "Deleting...\n",
        "_2FGLJ1017.0+3531 -14.9965211723\n",
        "Deleting...\n",
        "_2FGLJ1221.3+3010 -13.4397884175\n",
        "Deleting...\n",
        "_2FGLJ1124.2+2338 -13.1346384763\n",
        "Deleting...\n",
        "_2FGLJ1301.6+3331 -14.6869141027\n",
        "Deleting...\n",
        "_2FGLJ1104.4+3812 -17.2227630999\n",
        "Deleting...\n",
        "_2FGLJ1209.6+4121 -15.1510941505\n",
        "Deleting...\n",
        "_2FGLJ1049.4+1551 -16.4465395355\n",
        "Deleting...\n",
        "_2FGLJ1150.5+4154 -15.3745499132\n",
        "Deleting...\n",
        "_2FGLJ1014.1+2306 -14.7238376336\n",
        "Deleting...\n",
        "_2FGLJ1159.5+2914"
       ]
      },
      {
       "output_type": "stream",
       "stream": "stdout",
       "text": [
        " -12.0315078462\n",
        "Deleting...\n",
        "_2FGLJ1106.1+2814 -13.2969549722\n",
        "Deleting...\n",
        "_2FGLJ1146.9+4000 -13.9154934843\n",
        "Deleting...\n",
        "_2FGLJ1209.7+1807 -14.453856868\n",
        "Deleting...\n",
        "_2FGLJ1013.6+3434 -15.0689064102\n",
        "Deleting...\n",
        "gll_iem_v05_rev1 -21.1892980073\n",
        "Deleting...\n",
        "_2FGLJ1231.6+1417 -14.4181776221\n",
        "Deleting...\n",
        "_2FGLJ1051.3+3938 -15.5835259567\n",
        "Deleting...\n",
        "_2FGLJ1033.2+4117 -14.9663659935\n",
        "Deleting...\n",
        "_2FGLJ1023.6+2959 -15.0047122182\n",
        "Deleting...\n",
        "_2FGLJ1109.3+2414 -13.2543147064\n",
        "Deleting...\n",
        "_2FGLJ1221.4+2814 -14.0682591329\n",
        "Deleting...\n",
        "_2FGLJ1107.8+1505 -14.5399282618\n",
        "Deleting...\n",
        "_2FGLJ1225.0+4335 -14.9413884697\n",
        "Deleting...\n",
        "_2FGLJ1243.1+3627 -13.2228473845\n",
        "Deleting...\n",
        "_2FGLJ1158.8+0939 -15.315955716\n",
        "Deleting...\n",
        "_2FGLJ1137.0+2553 -13.2420062328\n",
        "Deleting...\n",
        "_2FGLJ1141.9+1550 -14.5199403697\n",
        "Deleting...\n",
        "_2FGLJ1217.8+3006 -14.0275484981\n",
        "Deleting...\n",
        "_2FGLJ1112.4+3450 -15.9001064999\n",
        "Deleting...\n",
        "_2FGLJ1226.0+2953 -13.3068889517\n",
        "Deleting...\n",
        "_2FGLJ1249.9+3705 -14.370805306\n",
        "Deleting...\n",
        "_2FGLJ1043.1+2404 -15.3100664138\n",
        "Deleting...\n",
        "_2FGLJ1012.6+2440 -14.6918823987\n",
        "Deleting...\n",
        "_2FGLJ1023.6+3947 -14.9527328396\n",
        "Deleting...\n",
        "_2FGLJ1117.2+2013 -13.0449470812\n",
        "Deleting...\n",
        "Our convergence is...\n",
        "0\n",
        "Running gtselect. Extracting data from 5500 to 7300 seconds..."
       ]
      },
      {
       "output_type": "stream",
       "stream": "stdout",
       "text": [
        "\n",
        "time -p /Users/ilmorgan/Documents/ScienceTools-v9r33p0-fssc-20140520-x86_64-apple-darwin12.5.0/x86_64-apple-darwin12.5.0/bin/gtselect infile=/Users/ilmorgan/Documents/VHEObserverTools/LAT_Week_Files/Fermi_ph_week_256.fits outfile=filtered.fits ra=173.136 dec=27.7129 rad=15.0 tmin=388747129.0 tmax=388748929.0 emin=100.0 emax=300000.0 zmax=100.0 evclsmin=\"INDEF\" evclsmax=\"INDEF\" evclass=2 convtype=-1 phasemin=0.0 phasemax=1.0 evtable=\"EVENTS\" chatter=2 clobber=yes debug=no gui=no mode=\"ql\"\n",
        "Done."
       ]
      },
      {
       "output_type": "stream",
       "stream": "stdout",
       "text": [
        "\n",
        "real 2.97\n",
        "user 1.05\n",
        "sys 0.09\n",
        "Running gtmaketime...\n",
        "time -p /Users/ilmorgan/Documents/ScienceTools-v9r33p0-fssc-20140520-x86_64-apple-darwin12.5.0/x86_64-apple-darwin12.5.0/bin/gtmktime scfile=/Users/ilmorgan/Documents/VHEObserverTools/lat_spacecraft_merged.fits sctable=\"SC_DATA\" filter=\"(DATA_QUAL>0)&&(LAT_CONFIG==1)\" roicut=yes evfile=filtered.fits evtable=\"EVENTS\" outfile=\"filtered_gti.fits\" apply_filter=yes overwrite=no header_obstimes=yes tstart=0.0 tstop=0.0 gtifile=\"default\" chatter=2 clobber=yes debug=True gui=no mode=\"ql\"\n",
        "real 9.16"
       ]
      },
      {
       "output_type": "stream",
       "stream": "stdout",
       "text": [
        "\n",
        "user 1.63\n",
        "sys 0.30\n",
        "Running gtexpCube...\n",
        "time -p /Users/ilmorgan/Documents/ScienceTools-v9r33p0-fssc-20140520-x86_64-apple-darwin12.5.0/x86_64-apple-darwin12.5.0/bin/gtltcube evfile=\"filtered_gti.fits\" evtable=\"EVENTS\" scfile=/Users/ilmorgan/Documents/VHEObserverTools/lat_spacecraft_merged.fits sctable=\"SC_DATA\" outfile=ltCube.fits dcostheta=0.025 binsz=1.0 phibins=0 tmin=0.0 tmax=0.0 file_version=\"1\" zmin=0.0 zmax=180.0 chatter=2 clobber=yes debug=no gui=no mode=\"ql\"\n",
        "Working on file /Users/ilmorgan/Documents/VHEObserverTools/lat_spacecraft_merged.fits"
       ]
      },
      {
       "output_type": "stream",
       "stream": "stdout",
       "text": [
        "\n",
        "......................!\n",
        "real 1.66\n",
        "user 0.79\n",
        "sys 0.31\n",
        "Running gtexpmap...\n",
        "time -p /Users/ilmorgan/Documents/ScienceTools-v9r33p0-fssc-20140520-x86_64-apple-darwin12.5.0/x86_64-apple-darwin12.5.0/bin/gtexpmap evfile=filtered_gti.fits evtable=\"EVENTS\" scfile=/Users/ilmorgan/Documents/VHEObserverTools/lat_spacecraft_merged.fits sctable=\"SC_DATA\" expcube=ltCube.fits outfile=expMap.fits irfs=\"CALDB\" srcrad=25.0 nlong=120 nlat=120 nenergies=20 submap=no nlongmin=0 nlongmax=0 nlatmin=0 nlatmax=0 chatter=2 clobber=yes debug=no gui=no mode=\"ql\"\n",
        "The exposure maps generated by this tool are meant"
       ]
      },
      {
       "output_type": "stream",
       "stream": "stdout",
       "text": [
        "\n",
        "to be used for *unbinned* likelihood analysis only.\n",
        "Do not use them for binned analyses.\n",
        "Computing the ExposureMap using ltCube.fits\n",
        "....................!\n",
        "real 203.81\n",
        "user 187.39\n",
        "sys 4.58\n",
        "Making source file and populating it with sources...\n",
        "Creating file and adding sources for 2FGL"
       ]
      },
      {
       "output_type": "stream",
       "stream": "stdout",
       "text": [
        "\n",
        "Added 52 point sources and 0 extended sources"
       ]
      },
      {
       "output_type": "stream",
       "stream": "stdout",
       "text": [
        "\n",
        "Adding diffuse response...\n",
        "time -p /Users/ilmorgan/Documents/ScienceTools-v9r33p0-fssc-20140520-x86_64-apple-darwin12.5.0/x86_64-apple-darwin12.5.0/bin/gtdiffrsp evfile=filtered_gti.fits evtable=\"EVENTS\" scfile=/Users/ilmorgan/Documents/VHEObserverTools/lat_spacecraft_merged.fits sctable=\"SC_DATA\" srcmdl=model.xml irfs=\"CALDB\" evclsmin=0 evclass=\"INDEF\" convert=no chatter=2 clobber=no debug=no gui=no mode=\"ql\"\n",
        "adding source gll_iem_v05_rev1"
       ]
      }
     ]
    },
    {
     "cell_type": "heading",
     "level": 2,
     "metadata": {},
     "source": [
      "Plotting the counts"
     ]
    },
    {
     "cell_type": "code",
     "collapsed": false,
     "input": [
      "GRB130427A.plot_counts(1)"
     ],
     "language": "python",
     "metadata": {},
     "outputs": [
      {
       "ename": "NameError",
       "evalue": "global name 'SourceName' is not defined",
       "output_type": "pyerr",
       "traceback": [
        "\u001b[0;31m---------------------------------------------------------------------------\u001b[0m\n\u001b[0;31mNameError\u001b[0m                                 Traceback (most recent call last)",
        "\u001b[0;32m<ipython-input-8-437166526770>\u001b[0m in \u001b[0;36m<module>\u001b[0;34m()\u001b[0m\n\u001b[0;32m----> 1\u001b[0;31m \u001b[0mGRB130427A\u001b[0m\u001b[0;34m.\u001b[0m\u001b[0mplot_counts\u001b[0m\u001b[0;34m(\u001b[0m\u001b[0;36m1\u001b[0m\u001b[0;34m)\u001b[0m\u001b[0;34m\u001b[0m\u001b[0m\n\u001b[0m",
        "\u001b[0;32m/Users/ilmorgan/Documents/VHEObserverTools/LAT_Analysis.py\u001b[0m in \u001b[0;36mplot_counts\u001b[0;34m(self, timebin)\u001b[0m\n",
        "\u001b[0;31mNameError\u001b[0m: global name 'SourceName' is not defined"
       ]
      },
      {
       "metadata": {},
       "output_type": "display_data",
       "png": "[encoded data removed]",
       "text": [
        "<matplotlib.figure.Figure at 0x10c80a910>"
       ]
      }
     ],
     "prompt_number": 8
    },
    {
     "cell_type": "heading",
     "level": 2,
     "metadata": {},
     "source": [
      "Write the data to a CSV file"
     ]
    },
    {
     "cell_type": "code",
     "collapsed": false,
     "input": [
      "GRB130427A.csv_write()"
     ],
     "language": "python",
     "metadata": {},
     "outputs": [
      {
       "ename": "AttributeError",
       "evalue": "'module' object has no attribute 'exists'",
       "output_type": "pyerr",
       "traceback": [
        "\u001b[0;31m---------------------------------------------------------------------------\u001b[0m\n\u001b[0;31mAttributeError\u001b[0m                            Traceback (most recent call last)",
        "\u001b[0;32m<ipython-input-17-e365917f6d47>\u001b[0m in \u001b[0;36m<module>\u001b[0;34m()\u001b[0m\n\u001b[0;32m----> 1\u001b[0;31m \u001b[0mGRB130427A\u001b[0m\u001b[0;34m.\u001b[0m\u001b[0mcsv_write\u001b[0m\u001b[0;34m(\u001b[0m\u001b[0;34m)\u001b[0m\u001b[0;34m\u001b[0m\u001b[0m\n\u001b[0m",
        "\u001b[0;32m/Users/ilmorgan/Documents/VHE_tools/LAT_Analysis.py\u001b[0m in \u001b[0;36mcsv_write\u001b[0;34m(self)\u001b[0m\n",
        "\u001b[0;31mAttributeError\u001b[0m: 'module' object has no attribute 'exists'"
       ]
      }
     ],
     "prompt_number": 17
    },
    {
     "cell_type": "code",
     "collapsed": false,
     "input": [
      "GRB130427A.VHE_Analysis(eblModel = 'Dominguez', instrument = 'VERITAS2', redshift = 0.34)"
     ],
     "language": "python",
     "metadata": {},
     "outputs": []
    },
    {
     "cell_type": "code",
     "collapsed": false,
     "input": [
      "        import matplotlib.pyplot as plt\n",
      "        import numpy as np\n",
      "        E = (GRB130427A.tbin[0].energies[:-1] + GRB130427A.tbin[0].energies[1:])/2.\n",
      "        plt.figure(figsize=(9,9))\n",
      "        plt.ylim((0.4,1e2))\n",
      "        plt.xlim((200,300000))\n",
      "        sum_model = np.zeros_like(GRB130427A.tbin[0]._srcCnts(GRB130427A.tbin[0].sourceNames()[0]))\n",
      "        for sourceName in GRB130427A.tbin[0].sourceNames():\n",
      "            if sourceName == 'GRB130427A':     \n",
      "                sum_model = sum_model + GRB130427A.tbin[0]._srcCnts(sourceName)\n",
      "                plt.loglog(E,GRB130427A.tbin[0]._srcCnts(sourceName),label=sourceName[0:])\n",
      "            else:\n",
      "                sum_model = sum_model + GRB130427A.tbin[0]._srcCnts(sourceName)\n",
      "                plt.loglog(E,GRB130427A.tbin[0]._srcCnts(sourceName),label=sourceName[0:])\n",
      "            \n",
      "        plt.loglog(E,sum_model,label='Total Model')\n",
      "        plt.errorbar(E,GRB130427A.tbin[0]._Nobs(),yerr=np.sqrt(GRB130427A.tbin[0]._Nobs()), fmt='o',label='Counts')\n",
      "        plt.legend(bbox_to_anchor=(1.05, 1), loc=2)\n",
      "        plt.xlabel('Energy (MeV)')\n",
      "        plt.ylabel('Counts')\n",
      "        plt.show()"
     ],
     "language": "python",
     "metadata": {},
     "outputs": [
      {
       "metadata": {},
       "output_type": "display_data",
       "png": "[encoded data removed]",
       "text": [
        "<matplotlib.figure.Figure at 0x112221d50>"
       ]
      }
     ],
     "prompt_number": 9
    },
    {
     "cell_type": "code",
     "collapsed": false,
     "input": [
      "import csv\n",
      "        if os.path.exists('GRBs') == False:\n",
      "            os.mkdir('GRBs')\n",
      "        else:\n",
      "            pass\n",
      "        os.chdir('GRBs')\n",
      "        with open(GRB130427A.Burst+'.csv', 'wb', newline='') as fp:\n",
      "            a = csv.writer(fp, delimiter=',')\n",
      "            data = [['Time after trigger(s)','Photon Flux(counts/cm^2/s)', 'Photon Flux Error(counts/cm^2/s)', 'Energy Flux(MeV/cm^2/s)','Energy Flux Error(MeV/cm^2/s)','Index','Index Error','RA','DEC','MET','Date']]\n",
      "            for t in range(len(GRB130427A.tbin)):\n",
      "                GRB_DATA = str(GRB130427A.tbin[t].model['GRB'+self.Burst])\n",
      "                Index_line = GRB_DATA.split('\\n')[3]\n",
      "                index = Index_line.split(' ')[11]\n",
      "                index_error = Index_line.split(' ')[13]\n",
      "                if t == 0:\n",
      "                    data.append([GRB130427A.times[t],self.tbin[t].flux('GRB'+self.Burst),self.tbin[t].fluxError('GRB'+self.Burst),self.tbin[t].energyFluxError('GRB'+self.Burst),self.tbin[t].energyFluxError('GRB'+self.Burst),index, index_error,self.RA,self.DEC,self.MET,self.Date])\n",
      "                else:\n",
      "                    data.append([self.times[t],self.tbin[t].flux('GRB'+self.Burst),self.tbin[t].fluxError('GRB'+self.Burst),self.tbin[t].energyFluxError('GRB'+self.Burst),self.tbin[t].energyFluxError('GRB'+self.Burst),index, index_error])\n",
      "            a.writerows(data)\n",
      "        os.chdir('..')"
     ],
     "language": "python",
     "metadata": {},
     "outputs": [],
     "prompt_number": 158
    },
    {
     "cell_type": "code",
     "collapsed": false,
     "input": [
      "os.path.isfile('GRBs/GRB130427A.csv')"
     ],
     "language": "python",
     "metadata": {},
     "outputs": [
      {
       "metadata": {},
       "output_type": "pyout",
       "prompt_number": 24,
       "text": [
        "True"
       ]
      }
     ],
     "prompt_number": 24
    },
    {
     "cell_type": "code",
     "collapsed": false,
     "input": [],
     "language": "python",
     "metadata": {},
     "outputs": []
    }
   ],
   "metadata": {}
  }
 ]
}